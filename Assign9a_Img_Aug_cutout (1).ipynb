{
  "nbformat": 4,
  "nbformat_minor": 0,
  "metadata": {
    "colab": {
      "name": "Assign9a_Img_Aug_cutout.ipynb",
      "provenance": [],
      "collapsed_sections": []
    },
    "kernelspec": {
      "name": "python3",
      "display_name": "Python 3"
    },
    "accelerator": "GPU"
  },
  "cells": [
    {
      "cell_type": "code",
      "metadata": {
        "id": "JV58IcdbUP2X",
        "colab_type": "code",
        "outputId": "37685735-4015-4ef2-fc21-b615a9e6635a",
        "colab": {
          "base_uri": "https://localhost:8080/",
          "height": 151
        }
      },
      "source": [
        "# import libraries\n",
        "import tensorflow.compat.v1 as tf\n",
        "tf.disable_v2_behavior()\n",
        "\n",
        "from keras import backend as k\n",
        "import time\n",
        "import matplotlib.pyplot as plt\n",
        "%matplotlib inline\n",
        "\n",
        "import numpy as np\n",
        "np.random.seed(2017)\n",
        "from keras.models import Sequential\n",
        "from keras.layers import Convolution2D, MaxPooling2D\n",
        "from keras.layers import Dense, Activation, Dropout, Add, Flatten\n",
        "from keras.layers import BatchNormalization\n",
        "from keras.utils import np_utils\n",
        "from keras.datasets import cifar10\n",
        "\n",
        "\n"
      ],
      "execution_count": 0,
      "outputs": [
        {
          "output_type": "display_data",
          "data": {
            "text/html": [
              "<p style=\"color: red;\">\n",
              "The default version of TensorFlow in Colab will soon switch to TensorFlow 2.x.<br>\n",
              "We recommend you <a href=\"https://www.tensorflow.org/guide/migrate\" target=\"_blank\">upgrade</a> now \n",
              "or ensure your notebook will continue to use TensorFlow 1.x via the <code>%tensorflow_version 1.x</code> magic:\n",
              "<a href=\"https://colab.research.google.com/notebooks/tensorflow_version.ipynb\" target=\"_blank\">more info</a>.</p>\n"
            ],
            "text/plain": [
              "<IPython.core.display.HTML object>"
            ]
          },
          "metadata": {
            "tags": []
          }
        },
        {
          "output_type": "stream",
          "text": [
            "WARNING:tensorflow:From /usr/local/lib/python3.6/dist-packages/tensorflow_core/python/compat/v2_compat.py:68: disable_resource_variables (from tensorflow.python.ops.variable_scope) is deprecated and will be removed in a future version.\n",
            "Instructions for updating:\n",
            "non-resource variables are not supported in the long term\n"
          ],
          "name": "stdout"
        },
        {
          "output_type": "stream",
          "text": [
            "Using TensorFlow backend.\n"
          ],
          "name": "stderr"
        }
      ]
    },
    {
      "cell_type": "code",
      "metadata": {
        "id": "8iySsVsIYc0V",
        "colab_type": "code",
        "colab": {}
      },
      "source": [
        "import numpy as np\n",
        "\n",
        "\n",
        "def get_random_eraser(p=0.5, s_l=0.02, s_h=0.4, r_1=0.3, r_2=1/0.3, v_l=0, v_h=255, pixel_level=False):\n",
        "    def eraser(input_img):\n",
        "        img_h, img_w, img_c = input_img.shape\n",
        "        p_1 = np.random.rand()\n",
        "\n",
        "        if p_1 > p:\n",
        "            return input_img\n",
        "\n",
        "        while True:\n",
        "            s = np.random.uniform(s_l, s_h) * img_h * img_w\n",
        "            r = np.random.uniform(r_1, r_2)\n",
        "            w = int(np.sqrt(s / r))\n",
        "            h = int(np.sqrt(s * r))\n",
        "            left = np.random.randint(0, img_w)\n",
        "            top = np.random.randint(0, img_h)\n",
        "\n",
        "            if left + w <= img_w and top + h <= img_h:\n",
        "                break\n",
        "\n",
        "        if pixel_level:\n",
        "            c = np.random.uniform(v_l, v_h, (h, w, img_c))\n",
        "        else:\n",
        "            c = np.random.uniform(v_l, v_h)\n",
        "\n",
        "        input_img[top:top + h, left:left + w, :] = c\n",
        "\n",
        "        return input_img\n",
        "\n",
        "    return eraser"
      ],
      "execution_count": 0,
      "outputs": []
    },
    {
      "cell_type": "code",
      "metadata": {
        "id": "sKNsOZ67UbVp",
        "colab_type": "code",
        "outputId": "5db9f7ce-ac80-4393-f595-ce1949449869",
        "colab": {
          "base_uri": "https://localhost:8080/",
          "height": 51
        }
      },
      "source": [
        "# load data\n",
        "(X_train, y_train),(X_test, y_test) = cifar10.load_data()"
      ],
      "execution_count": 0,
      "outputs": [
        {
          "output_type": "stream",
          "text": [
            "Downloading data from https://www.cs.toronto.edu/~kriz/cifar-10-python.tar.gz\n",
            "170500096/170498071 [==============================] - 2s 0us/step\n"
          ],
          "name": "stdout"
        }
      ]
    },
    {
      "cell_type": "code",
      "metadata": {
        "id": "svmYavrCUdAN",
        "colab_type": "code",
        "outputId": "dbbd13ed-4d0c-4fd9-a629-6b3fc6e9f34c",
        "colab": {
          "base_uri": "https://localhost:8080/",
          "height": 204
        }
      },
      "source": [
        "# View images\n",
        "\n",
        "# check the shape of the data set\n",
        "\n",
        "print(X_train.shape) # 50k images of size 32X32 and 3 channels\n",
        "print(X_test.shape) # 10 k images\n",
        "\n",
        "#num_train,img_channels, img_rows, img_cols = train_features.shape[0], train_features.shape[3],train_features.shape[1],train_features.shape[2]\n",
        "\n",
        "num_train, img_rows, img_cols,img_channels = X_train.shape\n",
        "print(num_train, img_channels, img_rows, img_cols)\n",
        "\n",
        "num_test, _, _, _ = X_test.shape\n",
        "num_classes = len(np.unique(y_train))\n",
        "print(num_classes)\n",
        "print(y_train[:])"
      ],
      "execution_count": 0,
      "outputs": [
        {
          "output_type": "stream",
          "text": [
            "(50000, 32, 32, 3)\n",
            "(10000, 32, 32, 3)\n",
            "50000 3 32 32\n",
            "10\n",
            "[[6]\n",
            " [9]\n",
            " [9]\n",
            " ...\n",
            " [9]\n",
            " [1]\n",
            " [1]]\n"
          ],
          "name": "stdout"
        }
      ]
    },
    {
      "cell_type": "code",
      "metadata": {
        "id": "jNr8DT5qWgQI",
        "colab_type": "code",
        "outputId": "7e7f9fd6-67ca-4375-c96b-0d21e70f22ac",
        "colab": {
          "base_uri": "https://localhost:8080/",
          "height": 283
        }
      },
      "source": [
        "# test out the cutout by extracting one image\n",
        "#plt.imshow(X_train[10])\n",
        "\n",
        "img = X_train[2]\n",
        "plt.imshow(img)\n",
        "\n",
        "# singe image erasor (cutout)\n",
        "eraser = get_random_eraser()\n",
        "img1 = eraser(img)\n",
        "eraser2 = get_random_eraser(v_l=0, v_h=1, pixel_level=True)\n",
        "img2 = eraser2(img)\n",
        "\n",
        "#plt.imshow(img1)\n",
        "plt.imshow(img2)\n"
      ],
      "execution_count": 0,
      "outputs": [
        {
          "output_type": "execute_result",
          "data": {
            "text/plain": [
              "<matplotlib.image.AxesImage at 0x7f0b4bb97470>"
            ]
          },
          "metadata": {
            "tags": []
          },
          "execution_count": 5
        },
        {
          "output_type": "display_data",
          "data": {
            "image/png": "[encoded data removed]",
            "text/plain": [
              "<Figure size 432x288 with 1 Axes>"
            ]
          },
          "metadata": {
            "tags": []
          }
        }
      ]
    },
    {
      "cell_type": "code",
      "metadata": {
        "id": "_a0OQyp00OVz",
        "colab_type": "code",
        "outputId": "5ea22449-feb0-47ba-c1b8-027da89e11eb",
        "colab": {
          "base_uri": "https://localhost:8080/",
          "height": 283
        }
      },
      "source": [
        "\n",
        "raw_img = X_train[1]\n",
        "plt.imshow(raw_img)"
      ],
      "execution_count": 0,
      "outputs": [
        {
          "output_type": "execute_result",
          "data": {
            "text/plain": [
              "<matplotlib.image.AxesImage at 0x7f0b4ae23b38>"
            ]
          },
          "metadata": {
            "tags": []
          },
          "execution_count": 6
        },
        {
          "output_type": "display_data",
          "data": {
            "image/png": "[encoded data removed]",
            "text/plain": [
              "<Figure size 432x288 with 1 Axes>"
            ]
          },
          "metadata": {
            "tags": []
          }
        }
      ]
    },
    {
      "cell_type": "code",
      "metadata": {
        "id": "t9nVKw0gkEmd",
        "colab_type": "code",
        "outputId": "14a6d254-156b-4453-8a9c-87ce82b135b6",
        "colab": {
          "base_uri": "https://localhost:8080/",
          "height": 213
        }
      },
      "source": [
        "# plot 10 classified images with cutouts\n",
        "# plot the images random selection\n",
        "\n",
        "class_names = ['airplane','automobile','bird','cat','deer',\n",
        "               'dog','frog','horse','ship','truck']\n",
        "\n",
        "fig = plt.figure(figsize=(8,3))\n",
        "\n",
        "for i in range(num_classes):\n",
        "  ax = fig.add_subplot(2,5, 1+i, xticks=[], yticks=[])\n",
        "  idx = np.where(y_train[:]==i)[0] # gets the index values for image number = i\n",
        "  features_idx = X_train[idx,::] # feature values for idx labes is stored in features_idx.\n",
        "  img_num = np.random.randint(features_idx.shape[0]) # select a random number from the feature_idx\n",
        "  im = features_idx[img_num]\n",
        "  ax.set_title(class_names[i])\n",
        "  #print(class_names[int(train_labels[img_num])], train_labels[img_num])\n",
        "  im = eraser(im)\n",
        "  plt.imshow(im)\n",
        "\n",
        "plt.show()"
      ],
      "execution_count": 0,
      "outputs": [
        {
          "output_type": "display_data",
          "data": {
            "image/png": "[encoded data removed]",
            "text/plain": [
              "<Figure size 576x216 with 10 Axes>"
            ]
          },
          "metadata": {
            "tags": []
          }
        }
      ]
    },
    {
      "cell_type": "code",
      "metadata": {
        "id": "wIYiPjnbkjUR",
        "colab_type": "code",
        "colab": {}
      },
      "source": [
        "# plot model histrory function\n",
        "def plot_model_history(model_history):\n",
        "    fig, axs = plt.subplots(1,2,figsize=(15,5))\n",
        "    # summarize history for accuracy\n",
        "    axs[0].plot(range(1,len(model_history.history['acc'])+1),model_history.history['acc'])\n",
        "    axs[0].plot(range(1,len(model_history.history['val_acc'])+1),model_history.history['val_acc'])\n",
        "    axs[0].set_title('Model Accuracy')\n",
        "    axs[0].set_ylabel('Accuracy')\n",
        "    axs[0].set_xlabel('Epoch')\n",
        "    axs[0].set_xticks(np.arange(1,len(model_history.history['acc'])+1),len(model_history.history['acc'])/10)\n",
        "    axs[0].legend(['train', 'val'], loc='best')\n",
        "    # summarize history for loss\n",
        "    axs[1].plot(range(1,len(model_history.history['loss'])+1),model_history.history['loss'])\n",
        "    axs[1].plot(range(1,len(model_history.history['val_loss'])+1),model_history.history['val_loss'])\n",
        "    axs[1].set_title('Model Loss')\n",
        "    axs[1].set_ylabel('Loss')\n",
        "    axs[1].set_xlabel('Epoch')\n",
        "    axs[1].set_xticks(np.arange(1,len(model_history.history['loss'])+1),len(model_history.history['loss'])/10)\n",
        "    axs[1].legend(['train', 'val'], loc='best')\n",
        "    plt.show()"
      ],
      "execution_count": 0,
      "outputs": []
    },
    {
      "cell_type": "code",
      "metadata": {
        "id": "Qnzukxs8km3a",
        "colab_type": "code",
        "colab": {}
      },
      "source": [
        "# Print Accuracy Function\n",
        "\n",
        "def accuracy(test_x, test_y, model):\n",
        "  result = model.predict(test_x)\n",
        "  predicted_class = np.argmax(result, axis=1)\n",
        "  true_class = np.argmax(test_y, axis=1)\n",
        "  num_correct = np.sum(predicted_class == true_class)\n",
        "  accuracy = float(num_correct)/result.shape[0]\n",
        "  return accuracy*100"
      ],
      "execution_count": 0,
      "outputs": []
    },
    {
      "cell_type": "code",
      "metadata": {
        "id": "cZXVnnOtUgAg",
        "colab_type": "code",
        "colab": {}
      },
      "source": [
        "\n",
        "# image normalize and one hot encoding\n",
        "X_train = X_train.astype('float32')/255\n",
        "X_test = X_test.astype('float32')/255\n",
        "# convert class labels to binary class labels\n",
        "y_train = np_utils.to_categorical(y_train, num_classes)\n",
        "y_test = np_utils.to_categorical(y_test, num_classes)"
      ],
      "execution_count": 0,
      "outputs": []
    },
    {
      "cell_type": "code",
      "metadata": {
        "id": "zuKvcJZIUmKZ",
        "colab_type": "code",
        "outputId": "3fa817c1-6bbb-46a8-c661-971afdff3361",
        "colab": {
          "base_uri": "https://localhost:8080/",
          "height": 1000
        }
      },
      "source": [
        "model = Sequential()\n",
        "\n",
        "model.add(Convolution2D(64, (3, 3), border_mode='same', input_shape=(32, 32, 3)))\n",
        "model.add(Activation('relu'))\n",
        "model.add(BatchNormalization(axis=-1))\n",
        "model.add(Dropout(0.1))\n",
        "\n",
        "model.add(Convolution2D(128, 3, border_mode='same'))\n",
        "model.add(Activation('relu'))\n",
        "model.add(BatchNormalization(axis=-1))\n",
        "model.add(Dropout(0.1))\n",
        "\n",
        "\n",
        "model.add(MaxPooling2D(pool_size=(2, 2)))\n",
        "model.add(Convolution2D(32, 1))\n",
        "\n",
        "\n",
        "\n",
        "model.add(Convolution2D(64, 3, border_mode='same'))\n",
        "model.add(Activation('relu'))\n",
        "model.add(BatchNormalization(axis=-1))\n",
        "model.add(Dropout(0.1))\n",
        "\n",
        "model.add(Convolution2D(128, 3, border_mode='same'))\n",
        "model.add(Activation('relu'))\n",
        "model.add(BatchNormalization(axis=-1))\n",
        "model.add(Dropout(0.1))\n",
        "\n",
        "model.add(MaxPooling2D(pool_size=(2, 2)))\n",
        "model.add(Convolution2D(32, 1))\n",
        "\n",
        "model.add(Convolution2D(64, 3, border_mode='same'))\n",
        "model.add(Activation('relu'))\n",
        "model.add(BatchNormalization(axis=-1))\n",
        "model.add(Dropout(0.1))\n",
        "\n",
        "model.add(Convolution2D(128, 3, border_mode='same'))\n",
        "model.add(Activation('relu'))\n",
        "model.add(BatchNormalization(axis=-1))\n",
        "model.add(Dropout(0.1))\n",
        "\n",
        "\n",
        "model.add(MaxPooling2D(pool_size=(2, 2)))\n",
        "model.add(Convolution2D(32, 1))\n",
        "\n",
        "model.add(Convolution2D(64, 3, border_mode='same'))\n",
        "model.add(Activation('relu'))\n",
        "model.add(BatchNormalization(axis=-1))\n",
        "model.add(Dropout(0.1))\n",
        "\n",
        "model.add(Convolution2D(128, 3, border_mode='same'))\n",
        "model.add(Activation('relu'))\n",
        "model.add(BatchNormalization(axis=-1))\n",
        "model.add(Dropout(0.1))\n",
        "\n",
        "\n",
        "model.add(MaxPooling2D(pool_size=(2, 2)))\n",
        "model.add(Convolution2D(32, 1))\n",
        "\n",
        "model.add(Convolution2D(64, 3, border_mode='same'))\n",
        "model.add(Activation('relu'))\n",
        "model.add(BatchNormalization(axis=-1))\n",
        "model.add(Dropout(0.1))\n",
        "\n",
        "model.add(Convolution2D(128, 3, border_mode='same'))\n",
        "model.add(BatchNormalization(axis=-1))\n",
        "model.add(Dropout(0.1))\n",
        "\n",
        "model.add(Convolution2D(10, 2))\n",
        "\n",
        "model.add(Flatten())\n",
        "model.add(Activation('softmax'))\n",
        "model.summary()\n",
        "\n",
        "# Compile the model\n"
      ],
      "execution_count": 0,
      "outputs": [
        {
          "output_type": "stream",
          "text": [
            "WARNING:tensorflow:From /usr/local/lib/python3.6/dist-packages/keras/backend/tensorflow_backend.py:66: The name tf.get_default_graph is deprecated. Please use tf.compat.v1.get_default_graph instead.\n",
            "\n",
            "WARNING:tensorflow:From /usr/local/lib/python3.6/dist-packages/keras/backend/tensorflow_backend.py:541: The name tf.placeholder is deprecated. Please use tf.compat.v1.placeholder instead.\n",
            "\n",
            "WARNING:tensorflow:From /usr/local/lib/python3.6/dist-packages/keras/backend/tensorflow_backend.py:4432: The name tf.random_uniform is deprecated. Please use tf.random.uniform instead.\n",
            "\n",
            "WARNING:tensorflow:From /usr/local/lib/python3.6/dist-packages/keras/backend/tensorflow_backend.py:190: The name tf.get_default_session is deprecated. Please use tf.compat.v1.get_default_session instead.\n",
            "\n",
            "WARNING:tensorflow:From /usr/local/lib/python3.6/dist-packages/keras/backend/tensorflow_backend.py:197: The name tf.ConfigProto is deprecated. Please use tf.compat.v1.ConfigProto instead.\n",
            "\n",
            "WARNING:tensorflow:From /usr/local/lib/python3.6/dist-packages/keras/backend/tensorflow_backend.py:203: The name tf.Session is deprecated. Please use tf.compat.v1.Session instead.\n",
            "\n"
          ],
          "name": "stdout"
        },
        {
          "output_type": "stream",
          "text": [
            "/usr/local/lib/python3.6/dist-packages/ipykernel_launcher.py:3: UserWarning: Update your `Conv2D` call to the Keras 2 API: `Conv2D(64, (3, 3), input_shape=(32, 32, 3..., padding=\"same\")`\n",
            "  This is separate from the ipykernel package so we can avoid doing imports until\n"
          ],
          "name": "stderr"
        },
        {
          "output_type": "stream",
          "text": [
            "WARNING:tensorflow:From /usr/local/lib/python3.6/dist-packages/keras/backend/tensorflow_backend.py:207: The name tf.global_variables is deprecated. Please use tf.compat.v1.global_variables instead.\n",
            "\n",
            "WARNING:tensorflow:From /usr/local/lib/python3.6/dist-packages/keras/backend/tensorflow_backend.py:216: The name tf.is_variable_initialized is deprecated. Please use tf.compat.v1.is_variable_initialized instead.\n",
            "\n",
            "WARNING:tensorflow:From /usr/local/lib/python3.6/dist-packages/keras/backend/tensorflow_backend.py:223: The name tf.variables_initializer is deprecated. Please use tf.compat.v1.variables_initializer instead.\n",
            "\n",
            "WARNING:tensorflow:From /usr/local/lib/python3.6/dist-packages/keras/backend/tensorflow_backend.py:2041: The name tf.nn.fused_batch_norm is deprecated. Please use tf.compat.v1.nn.fused_batch_norm instead.\n",
            "\n",
            "WARNING:tensorflow:From /usr/local/lib/python3.6/dist-packages/keras/backend/tensorflow_backend.py:148: The name tf.placeholder_with_default is deprecated. Please use tf.compat.v1.placeholder_with_default instead.\n",
            "\n",
            "WARNING:tensorflow:From /usr/local/lib/python3.6/dist-packages/keras/backend/tensorflow_backend.py:3733: calling dropout (from tensorflow.python.ops.nn_ops) with keep_prob is deprecated and will be removed in a future version.\n",
            "Instructions for updating:\n",
            "Please use `rate` instead of `keep_prob`. Rate should be set to `rate = 1 - keep_prob`.\n",
            "WARNING:tensorflow:From /usr/local/lib/python3.6/dist-packages/keras/backend/tensorflow_backend.py:4267: The name tf.nn.max_pool is deprecated. Please use tf.nn.max_pool2d instead.\n",
            "\n"
          ],
          "name": "stdout"
        },
        {
          "output_type": "stream",
          "text": [
            "/usr/local/lib/python3.6/dist-packages/ipykernel_launcher.py:8: UserWarning: Update your `Conv2D` call to the Keras 2 API: `Conv2D(128, 3, padding=\"same\")`\n",
            "  \n",
            "/usr/local/lib/python3.6/dist-packages/ipykernel_launcher.py:19: UserWarning: Update your `Conv2D` call to the Keras 2 API: `Conv2D(64, 3, padding=\"same\")`\n",
            "/usr/local/lib/python3.6/dist-packages/ipykernel_launcher.py:24: UserWarning: Update your `Conv2D` call to the Keras 2 API: `Conv2D(128, 3, padding=\"same\")`\n",
            "/usr/local/lib/python3.6/dist-packages/ipykernel_launcher.py:32: UserWarning: Update your `Conv2D` call to the Keras 2 API: `Conv2D(64, 3, padding=\"same\")`\n",
            "/usr/local/lib/python3.6/dist-packages/ipykernel_launcher.py:37: UserWarning: Update your `Conv2D` call to the Keras 2 API: `Conv2D(128, 3, padding=\"same\")`\n",
            "/usr/local/lib/python3.6/dist-packages/ipykernel_launcher.py:46: UserWarning: Update your `Conv2D` call to the Keras 2 API: `Conv2D(64, 3, padding=\"same\")`\n",
            "/usr/local/lib/python3.6/dist-packages/ipykernel_launcher.py:51: UserWarning: Update your `Conv2D` call to the Keras 2 API: `Conv2D(128, 3, padding=\"same\")`\n",
            "/usr/local/lib/python3.6/dist-packages/ipykernel_launcher.py:60: UserWarning: Update your `Conv2D` call to the Keras 2 API: `Conv2D(64, 3, padding=\"same\")`\n",
            "/usr/local/lib/python3.6/dist-packages/ipykernel_launcher.py:65: UserWarning: Update your `Conv2D` call to the Keras 2 API: `Conv2D(128, 3, padding=\"same\")`\n"
          ],
          "name": "stderr"
        },
        {
          "output_type": "stream",
          "text": [
            "Model: \"sequential_1\"\n",
            "_________________________________________________________________\n",
            "Layer (type)                 Output Shape              Param #   \n",
            "=================================================================\n",
            "conv2d_1 (Conv2D)            (None, 32, 32, 64)        1792      \n",
            "_________________________________________________________________\n",
            "activation_1 (Activation)    (None, 32, 32, 64)        0         \n",
            "_________________________________________________________________\n",
            "batch_normalization_1 (Batch (None, 32, 32, 64)        256       \n",
            "_________________________________________________________________\n",
            "dropout_1 (Dropout)          (None, 32, 32, 64)        0         \n",
            "_________________________________________________________________\n",
            "conv2d_2 (Conv2D)            (None, 32, 32, 128)       73856     \n",
            "_________________________________________________________________\n",
            "activation_2 (Activation)    (None, 32, 32, 128)       0         \n",
            "_________________________________________________________________\n",
            "batch_normalization_2 (Batch (None, 32, 32, 128)       512       \n",
            "_________________________________________________________________\n",
            "dropout_2 (Dropout)          (None, 32, 32, 128)       0         \n",
            "_________________________________________________________________\n",
            "max_pooling2d_1 (MaxPooling2 (None, 16, 16, 128)       0         \n",
            "_________________________________________________________________\n",
            "conv2d_3 (Conv2D)            (None, 16, 16, 32)        4128      \n",
            "_________________________________________________________________\n",
            "conv2d_4 (Conv2D)            (None, 16, 16, 64)        18496     \n",
            "_________________________________________________________________\n",
            "activation_3 (Activation)    (None, 16, 16, 64)        0         \n",
            "_________________________________________________________________\n",
            "batch_normalization_3 (Batch (None, 16, 16, 64)        256       \n",
            "_________________________________________________________________\n",
            "dropout_3 (Dropout)          (None, 16, 16, 64)        0         \n",
            "_________________________________________________________________\n",
            "conv2d_5 (Conv2D)            (None, 16, 16, 128)       73856     \n",
            "_________________________________________________________________\n",
            "activation_4 (Activation)    (None, 16, 16, 128)       0         \n",
            "_________________________________________________________________\n",
            "batch_normalization_4 (Batch (None, 16, 16, 128)       512       \n",
            "_________________________________________________________________\n",
            "dropout_4 (Dropout)          (None, 16, 16, 128)       0         \n",
            "_________________________________________________________________\n",
            "max_pooling2d_2 (MaxPooling2 (None, 8, 8, 128)         0         \n",
            "_________________________________________________________________\n",
            "conv2d_6 (Conv2D)            (None, 8, 8, 32)          4128      \n",
            "_________________________________________________________________\n",
            "conv2d_7 (Conv2D)            (None, 8, 8, 64)          18496     \n",
            "_________________________________________________________________\n",
            "activation_5 (Activation)    (None, 8, 8, 64)          0         \n",
            "_________________________________________________________________\n",
            "batch_normalization_5 (Batch (None, 8, 8, 64)          256       \n",
            "_________________________________________________________________\n",
            "dropout_5 (Dropout)          (None, 8, 8, 64)          0         \n",
            "_________________________________________________________________\n",
            "conv2d_8 (Conv2D)            (None, 8, 8, 128)         73856     \n",
            "_________________________________________________________________\n",
            "activation_6 (Activation)    (None, 8, 8, 128)         0         \n",
            "_________________________________________________________________\n",
            "batch_normalization_6 (Batch (None, 8, 8, 128)         512       \n",
            "_________________________________________________________________\n",
            "dropout_6 (Dropout)          (None, 8, 8, 128)         0         \n",
            "_________________________________________________________________\n",
            "max_pooling2d_3 (MaxPooling2 (None, 4, 4, 128)         0         \n",
            "_________________________________________________________________\n",
            "conv2d_9 (Conv2D)            (None, 4, 4, 32)          4128      \n",
            "_________________________________________________________________\n",
            "conv2d_10 (Conv2D)           (None, 4, 4, 64)          18496     \n",
            "_________________________________________________________________\n",
            "activation_7 (Activation)    (None, 4, 4, 64)          0         \n",
            "_________________________________________________________________\n",
            "batch_normalization_7 (Batch (None, 4, 4, 64)          256       \n",
            "_________________________________________________________________\n",
            "dropout_7 (Dropout)          (None, 4, 4, 64)          0         \n",
            "_________________________________________________________________\n",
            "conv2d_11 (Conv2D)           (None, 4, 4, 128)         73856     \n",
            "_________________________________________________________________\n",
            "activation_8 (Activation)    (None, 4, 4, 128)         0         \n",
            "_________________________________________________________________\n",
            "batch_normalization_8 (Batch (None, 4, 4, 128)         512       \n",
            "_________________________________________________________________\n",
            "dropout_8 (Dropout)          (None, 4, 4, 128)         0         \n",
            "_________________________________________________________________\n",
            "max_pooling2d_4 (MaxPooling2 (None, 2, 2, 128)         0         \n",
            "_________________________________________________________________\n",
            "conv2d_12 (Conv2D)           (None, 2, 2, 32)          4128      \n",
            "_________________________________________________________________\n",
            "conv2d_13 (Conv2D)           (None, 2, 2, 64)          18496     \n",
            "_________________________________________________________________\n",
            "activation_9 (Activation)    (None, 2, 2, 64)          0         \n",
            "_________________________________________________________________\n",
            "batch_normalization_9 (Batch (None, 2, 2, 64)          256       \n",
            "_________________________________________________________________\n",
            "dropout_9 (Dropout)          (None, 2, 2, 64)          0         \n",
            "_________________________________________________________________\n",
            "conv2d_14 (Conv2D)           (None, 2, 2, 128)         73856     \n",
            "_________________________________________________________________\n",
            "batch_normalization_10 (Batc (None, 2, 2, 128)         512       \n",
            "_________________________________________________________________\n",
            "dropout_10 (Dropout)         (None, 2, 2, 128)         0         \n",
            "_________________________________________________________________\n",
            "conv2d_15 (Conv2D)           (None, 1, 1, 10)          5130      \n",
            "_________________________________________________________________\n",
            "flatten_1 (Flatten)          (None, 10)                0         \n",
            "_________________________________________________________________\n",
            "activation_10 (Activation)   (None, 10)                0         \n",
            "=================================================================\n",
            "Total params: 470,538\n",
            "Trainable params: 468,618\n",
            "Non-trainable params: 1,920\n",
            "_________________________________________________________________\n"
          ],
          "name": "stdout"
        }
      ]
    },
    {
      "cell_type": "code",
      "metadata": {
        "id": "Q62XmUW0ly4W",
        "colab_type": "code",
        "outputId": "c910068d-fb62-418a-d01c-467e47f4468b",
        "colab": {
          "base_uri": "https://localhost:8080/",
          "height": 105
        }
      },
      "source": [
        "# Compile the model\n",
        "model.compile(optimizer='adam', loss='categorical_crossentropy', metrics=['accuracy'])"
      ],
      "execution_count": 0,
      "outputs": [
        {
          "output_type": "stream",
          "text": [
            "WARNING:tensorflow:From /usr/local/lib/python3.6/dist-packages/keras/optimizers.py:793: The name tf.train.Optimizer is deprecated. Please use tf.compat.v1.train.Optimizer instead.\n",
            "\n",
            "WARNING:tensorflow:From /usr/local/lib/python3.6/dist-packages/keras/backend/tensorflow_backend.py:3576: The name tf.log is deprecated. Please use tf.math.log instead.\n",
            "\n"
          ],
          "name": "stdout"
        }
      ]
    },
    {
      "cell_type": "code",
      "metadata": {
        "id": "rqaK5c3vnzTg",
        "colab_type": "code",
        "outputId": "44f3ad15-938e-4411-89eb-8a0a3a16a807",
        "colab": {
          "base_uri": "https://localhost:8080/",
          "height": 870
        }
      },
      "source": [
        "model.fit(X_train, y_train, batch_size=128, epochs=20, verbose=1,\n",
        "         validation_data=(X_test,y_test))"
      ],
      "execution_count": 0,
      "outputs": [
        {
          "output_type": "stream",
          "text": [
            "WARNING:tensorflow:From /usr/local/lib/python3.6/dist-packages/tensorflow_core/python/ops/math_grad.py:1424: where (from tensorflow.python.ops.array_ops) is deprecated and will be removed in a future version.\n",
            "Instructions for updating:\n",
            "Use tf.where in 2.0, which has the same broadcast rule as np.where\n",
            "WARNING:tensorflow:From /usr/local/lib/python3.6/dist-packages/keras/backend/tensorflow_backend.py:1033: The name tf.assign_add is deprecated. Please use tf.compat.v1.assign_add instead.\n",
            "\n",
            "WARNING:tensorflow:From /usr/local/lib/python3.6/dist-packages/keras/backend/tensorflow_backend.py:1020: The name tf.assign is deprecated. Please use tf.compat.v1.assign instead.\n",
            "\n",
            "Train on 50000 samples, validate on 10000 samples\n",
            "Epoch 1/20\n",
            "50000/50000 [==============================] - 20s 403us/step - loss: 1.4939 - acc: 0.4639 - val_loss: 1.2550 - val_acc: 0.5720\n",
            "Epoch 2/20\n",
            "50000/50000 [==============================] - 14s 283us/step - loss: 0.9828 - acc: 0.6517 - val_loss: 0.9463 - val_acc: 0.6693\n",
            "Epoch 3/20\n",
            "50000/50000 [==============================] - 14s 282us/step - loss: 0.7785 - acc: 0.7248 - val_loss: 0.9477 - val_acc: 0.6849\n",
            "Epoch 4/20\n",
            "50000/50000 [==============================] - 14s 283us/step - loss: 0.6688 - acc: 0.7664 - val_loss: 0.7059 - val_acc: 0.7654\n",
            "Epoch 5/20\n",
            "50000/50000 [==============================] - 14s 284us/step - loss: 0.5988 - acc: 0.7913 - val_loss: 0.8096 - val_acc: 0.7237\n",
            "Epoch 6/20\n",
            "50000/50000 [==============================] - 14s 281us/step - loss: 0.5339 - acc: 0.8151 - val_loss: 0.6880 - val_acc: 0.7697\n",
            "Epoch 7/20\n",
            "50000/50000 [==============================] - 14s 284us/step - loss: 0.4856 - acc: 0.8320 - val_loss: 0.6565 - val_acc: 0.7767\n",
            "Epoch 8/20\n",
            "50000/50000 [==============================] - 14s 283us/step - loss: 0.4423 - acc: 0.8454 - val_loss: 0.6294 - val_acc: 0.7943\n",
            "Epoch 9/20\n",
            "50000/50000 [==============================] - 14s 282us/step - loss: 0.4164 - acc: 0.8539 - val_loss: 0.6021 - val_acc: 0.8010\n",
            "Epoch 10/20\n",
            "50000/50000 [==============================] - 14s 283us/step - loss: 0.3825 - acc: 0.8675 - val_loss: 0.6367 - val_acc: 0.7980\n",
            "Epoch 11/20\n",
            "50000/50000 [==============================] - 14s 282us/step - loss: 0.3574 - acc: 0.8731 - val_loss: 0.6589 - val_acc: 0.8021\n",
            "Epoch 12/20\n",
            "50000/50000 [==============================] - 14s 283us/step - loss: 0.3305 - acc: 0.8830 - val_loss: 0.6596 - val_acc: 0.7970\n",
            "Epoch 13/20\n",
            "50000/50000 [==============================] - 14s 283us/step - loss: 0.3169 - acc: 0.8888 - val_loss: 0.5899 - val_acc: 0.8158\n",
            "Epoch 14/20\n",
            "50000/50000 [==============================] - 14s 282us/step - loss: 0.2918 - acc: 0.8967 - val_loss: 0.6373 - val_acc: 0.8097\n",
            "Epoch 15/20\n",
            "50000/50000 [==============================] - 14s 281us/step - loss: 0.2811 - acc: 0.9009 - val_loss: 0.5426 - val_acc: 0.8353\n",
            "Epoch 16/20\n",
            "50000/50000 [==============================] - 14s 283us/step - loss: 0.2591 - acc: 0.9087 - val_loss: 0.6218 - val_acc: 0.8149\n",
            "Epoch 17/20\n",
            "50000/50000 [==============================] - 14s 282us/step - loss: 0.2513 - acc: 0.9105 - val_loss: 0.6272 - val_acc: 0.8110\n",
            "Epoch 18/20\n",
            "50000/50000 [==============================] - 14s 282us/step - loss: 0.2320 - acc: 0.9179 - val_loss: 0.5802 - val_acc: 0.8290\n",
            "Epoch 19/20\n",
            "50000/50000 [==============================] - 14s 281us/step - loss: 0.2191 - acc: 0.9233 - val_loss: 0.5684 - val_acc: 0.8376\n",
            "Epoch 20/20\n",
            "50000/50000 [==============================] - 14s 281us/step - loss: 0.2097 - acc: 0.9251 - val_loss: 0.6216 - val_acc: 0.8234\n"
          ],
          "name": "stdout"
        },
        {
          "output_type": "execute_result",
          "data": {
            "text/plain": [
              "<keras.callbacks.History at 0x7f0b4ab62fd0>"
            ]
          },
          "metadata": {
            "tags": []
          },
          "execution_count": 13
        }
      ]
    },
    {
      "cell_type": "code",
      "metadata": {
        "id": "vCLbwEf_UoZf",
        "colab_type": "code",
        "outputId": "bdcc685f-91d9-4108-ac50-d63321ff7356",
        "colab": {
          "base_uri": "https://localhost:8080/",
          "height": 812
        }
      },
      "source": [
        "# fit the model using image data generator\n",
        "from keras.preprocessing.image import ImageDataGenerator\n",
        "\n",
        "datagen = ImageDataGenerator(zoom_range=0.0, \n",
        "                             horizontal_flip=False,\n",
        "                             preprocessing_function=get_random_eraser(v_l=0, v_h=1, pixel_level=False))\n",
        "\n",
        "\n",
        "# train the model\n",
        "start = time.time()\n",
        "# Train the model\n",
        "model_info = model.fit_generator(datagen.flow(X_train, y_train, batch_size = 128),\n",
        "                                 samples_per_epoch = X_train.shape[0], nb_epoch = 10, \n",
        "                                 validation_data = (X_test, y_test), verbose=1)\n",
        "end = time.time()\n",
        "print (\"Model took %0.2f seconds to train\"%(end - start))\n",
        "# plot model history\n",
        "plot_model_history(model_info)\n",
        "# compute test accuracy\n",
        "print (\"Accuracy on test data is: %0.2f\"%accuracy(X_test, y_test, model))"
      ],
      "execution_count": 0,
      "outputs": [
        {
          "output_type": "stream",
          "text": [
            "/usr/local/lib/python3.6/dist-packages/ipykernel_launcher.py:13: UserWarning: The semantics of the Keras 2 argument `steps_per_epoch` is not the same as the Keras 1 argument `samples_per_epoch`. `steps_per_epoch` is the number of batches to draw from the generator at each epoch. Basically steps_per_epoch = samples_per_epoch/batch_size. Similarly `nb_val_samples`->`validation_steps` and `val_samples`->`steps` arguments have changed. Update your method calls accordingly.\n",
            "  del sys.path[0]\n",
            "/usr/local/lib/python3.6/dist-packages/ipykernel_launcher.py:13: UserWarning: Update your `fit_generator` call to the Keras 2 API: `fit_generator(<keras_pre..., validation_data=(array([[[..., verbose=1, steps_per_epoch=390, epochs=10)`\n",
            "  del sys.path[0]\n"
          ],
          "name": "stderr"
        },
        {
          "output_type": "stream",
          "text": [
            "Epoch 1/10\n",
            "390/390 [==============================] - 15s 38ms/step - loss: 0.4393 - acc: 0.8489 - val_loss: 0.5286 - val_acc: 0.8339\n",
            "Epoch 2/10\n",
            "390/390 [==============================] - 15s 39ms/step - loss: 0.3967 - acc: 0.8615 - val_loss: 0.5754 - val_acc: 0.8244\n",
            "Epoch 3/10\n",
            "390/390 [==============================] - 16s 40ms/step - loss: 0.3743 - acc: 0.8700 - val_loss: 0.5219 - val_acc: 0.8380\n",
            "Epoch 4/10\n",
            "390/390 [==============================] - 16s 40ms/step - loss: 0.3680 - acc: 0.8723 - val_loss: 0.5567 - val_acc: 0.8222\n",
            "Epoch 5/10\n",
            "390/390 [==============================] - 15s 39ms/step - loss: 0.3463 - acc: 0.8785 - val_loss: 0.5775 - val_acc: 0.8195\n",
            "Epoch 6/10\n",
            "390/390 [==============================] - 15s 39ms/step - loss: 0.3426 - acc: 0.8807 - val_loss: 0.5129 - val_acc: 0.8403\n",
            "Epoch 7/10\n",
            "390/390 [==============================] - 15s 39ms/step - loss: 0.3240 - acc: 0.8860 - val_loss: 0.5055 - val_acc: 0.8427\n",
            "Epoch 8/10\n",
            "390/390 [==============================] - 15s 39ms/step - loss: 0.3214 - acc: 0.8878 - val_loss: 0.6323 - val_acc: 0.8099\n",
            "Epoch 9/10\n",
            "390/390 [==============================] - 15s 39ms/step - loss: 0.3172 - acc: 0.8899 - val_loss: 0.5421 - val_acc: 0.8296\n",
            "Epoch 10/10\n",
            "390/390 [==============================] - 15s 38ms/step - loss: 0.3077 - acc: 0.8928 - val_loss: 0.4728 - val_acc: 0.8529\n",
            "Model took 152.06 seconds to train\n"
          ],
          "name": "stdout"
        },
        {
          "output_type": "display_data",
          "data": {
            "image/png": "[encoded data removed]",
            "text/plain": [
              "<Figure size 1080x360 with 2 Axes>"
            ]
          },
          "metadata": {
            "tags": []
          }
        },
        {
          "output_type": "stream",
          "text": [
            "Accuracy on test data is: 85.29\n"
          ],
          "name": "stdout"
        }
      ]
    },
    {
      "cell_type": "code",
      "metadata": {
        "id": "Iqap2Wrk4FCj",
        "colab_type": "code",
        "colab": {}
      },
      "source": [
        "from keras.applications.vgg16 import VGG16, preprocess_input, decode_predictions\n",
        "from keras.preprocessing import image\n",
        "import keras.backend as K\n",
        "import numpy as np\n",
        "import cv2\n",
        "import sys\n",
        "import matplotlib.pyplot as plt"
      ],
      "execution_count": 0,
      "outputs": []
    },
    {
      "cell_type": "code",
      "metadata": {
        "id": "Lvgbfr_jUsOj",
        "colab_type": "code",
        "colab": {}
      },
      "source": [
        "# conv2d_52\n",
        "\n",
        "last_conv_layer = model.get_layer(\"conv2d_13\")\n",
        "\n"
      ],
      "execution_count": 0,
      "outputs": []
    },
    {
      "cell_type": "code",
      "metadata": {
        "id": "NQqGNjg59WNK",
        "colab_type": "code",
        "outputId": "c60a0242-5e3a-494f-e3c5-b788f835c5d8",
        "colab": {
          "base_uri": "https://localhost:8080/",
          "height": 283
        }
      },
      "source": [
        "raw_img = X_train[8]\n",
        "raw_img1 = X_train[8]\n",
        "plt.imshow(raw_img)\n",
        "raw_img.shape"
      ],
      "execution_count": 0,
      "outputs": [
        {
          "output_type": "execute_result",
          "data": {
            "text/plain": [
              "(32, 32, 3)"
            ]
          },
          "metadata": {
            "tags": []
          },
          "execution_count": 62
        },
        {
          "output_type": "display_data",
          "data": {
            "image/png": "[encoded data removed]",
            "text/plain": [
              "<Figure size 432x288 with 1 Axes>"
            ]
          },
          "metadata": {
            "tags": []
          }
        }
      ]
    },
    {
      "cell_type": "code",
      "metadata": {
        "id": "qGRlfP6_zUjk",
        "colab_type": "code",
        "outputId": "51efe420-95f1-49a5-a1c0-01aff987059a",
        "colab": {
          "base_uri": "https://localhost:8080/",
          "height": 51
        }
      },
      "source": [
        "# Get an image\n",
        "\n",
        "\n",
        "img = image.img_to_array(raw_img1)\n",
        "img = np.expand_dims(img,axis=0)\n",
        "print(img.max(), img.min(), img.mean())\n",
        "img = img.astype('float32')/255\n",
        "#plt.imshow(img)\n",
        "print(img.max(), img.min(), img.mean())\n"
      ],
      "execution_count": 0,
      "outputs": [
        {
          "output_type": "stream",
          "text": [
            "0.9882353 0.03137255 0.59396833\n",
            "0.0038754325 0.00012302962 0.0023292874\n"
          ],
          "name": "stdout"
        }
      ]
    },
    {
      "cell_type": "code",
      "metadata": {
        "id": "i9-ZBvaYzjx6",
        "colab_type": "code",
        "outputId": "97d6a291-a3a4-4ea9-ec63-65d1ea4f1b09",
        "colab": {
          "base_uri": "https://localhost:8080/",
          "height": 51
        }
      },
      "source": [
        "preds = model.predict(img)\n",
        "print(preds)\n",
        "class_idx = np.argmax(preds[0])\n",
        "class_output = model.output[:, class_idx]\n",
        "last_conv_layer = model.get_layer(\"conv2d_13\")"
      ],
      "execution_count": 0,
      "outputs": [
        {
          "output_type": "stream",
          "text": [
            "[[0.14639018 0.02553295 0.10793858 0.07038161 0.332443   0.02920399\n",
            "  0.07333773 0.0479005  0.10489984 0.06197158]]\n"
          ],
          "name": "stdout"
        }
      ]
    },
    {
      "cell_type": "code",
      "metadata": {
        "id": "2ImEJ4-i4t4h",
        "colab_type": "code",
        "colab": {}
      },
      "source": [
        "grads = K.gradients(class_output, last_conv_layer.output)[0]\n",
        "pooled_grads = K.mean(grads, axis=(0, 1, 2))\n",
        "iterate = K.function([model.input], [pooled_grads, last_conv_layer.output[0]])\n",
        "pooled_grads_value, conv_layer_output_value = iterate([img])\n",
        "for i in range(64):\n",
        "    conv_layer_output_value[:, :, i] *= pooled_grads_value[i]\n"
      ],
      "execution_count": 0,
      "outputs": []
    },
    {
      "cell_type": "code",
      "metadata": {
        "id": "_f63mWM657WO",
        "colab_type": "code",
        "colab": {}
      },
      "source": [
        "heatmap = np.mean(conv_layer_output_value, axis=-1)\n",
        "heatmap = np.maximum(heatmap, 0)\n",
        "heatmap /= np.max(heatmap)\n",
        "\n"
      ],
      "execution_count": 0,
      "outputs": []
    },
    {
      "cell_type": "code",
      "metadata": {
        "id": "S0tZ2yIu7s_d",
        "colab_type": "code",
        "outputId": "b35567e5-a817-4b69-d941-35bbfdb21135",
        "colab": {
          "base_uri": "https://localhost:8080/",
          "height": 34
        }
      },
      "source": [
        "heatmap.shape"
      ],
      "execution_count": 0,
      "outputs": [
        {
          "output_type": "execute_result",
          "data": {
            "text/plain": [
              "(2, 2)"
            ]
          },
          "metadata": {
            "tags": []
          },
          "execution_count": 74
        }
      ]
    },
    {
      "cell_type": "code",
      "metadata": {
        "id": "uvhEWrUA7FBS",
        "colab_type": "code",
        "outputId": "55bbed85-2418-44b7-a18c-db6821d08292",
        "colab": {
          "base_uri": "https://localhost:8080/",
          "height": 34
        }
      },
      "source": [
        "heatmap = cv2.resize(heatmap, (raw_img.shape[1], raw_img.shape[0]))\n",
        "print(heatmap.shape)\n",
        "heatmap = np.uint8(255 * heatmap)\n",
        "heatmap = cv2.applyColorMap(heatmap, cv2.COLORMAP_JET)\n",
        "superimposed_img = cv2.addWeighted(raw_img, 0.6, heatmap, 0.4,0,dtype = cv2.CV_32F)\n",
        "#print(heatmap.shape)\n",
        "\n",
        "#plt.imshow(heatmap)\n",
        "#plt.show\n"
      ],
      "execution_count": 0,
      "outputs": [
        {
          "output_type": "stream",
          "text": [
            "(32, 32)\n"
          ],
          "name": "stdout"
        }
      ]
    },
    {
      "cell_type": "code",
      "metadata": {
        "id": "Ox4HUjx-7QN1",
        "colab_type": "code",
        "outputId": "fe87df7d-c44e-46e2-98f1-e1502dff0a52",
        "colab": {
          "base_uri": "https://localhost:8080/",
          "height": 300
        }
      },
      "source": [
        "plt.imshow(superimposed_img)"
      ],
      "execution_count": 0,
      "outputs": [
        {
          "output_type": "stream",
          "text": [
            "Clipping input data to the valid range for imshow with RGB data ([0..1] for floats or [0..255] for integers).\n"
          ],
          "name": "stderr"
        },
        {
          "output_type": "execute_result",
          "data": {
            "text/plain": [
              "<matplotlib.image.AxesImage at 0x7f0a3bc33e80>"
            ]
          },
          "metadata": {
            "tags": []
          },
          "execution_count": 76
        },
        {
          "output_type": "display_data",
          "data": {
            "image/png": "[encoded data removed]",
            "text/plain": [
              "<Figure size 432x288 with 1 Axes>"
            ]
          },
          "metadata": {
            "tags": []
          }
        }
      ]
    },
    {
      "cell_type": "code",
      "metadata": {
        "id": "lf0ZZxxLueTO",
        "colab_type": "code",
        "outputId": "0561675b-fe0d-43df-e0f3-13e7a4e81c4d",
        "colab": {
          "base_uri": "https://localhost:8080/",
          "height": 283
        }
      },
      "source": [
        "plt.imshow(heatmap)"
      ],
      "execution_count": 0,
      "outputs": [
        {
          "output_type": "execute_result",
          "data": {
            "text/plain": [
              "<matplotlib.image.AxesImage at 0x7f0a3bc129e8>"
            ]
          },
          "metadata": {
            "tags": []
          },
          "execution_count": 77
        },
        {
          "output_type": "display_data",
          "data": {
            "image/png": "[encoded data removed]",
            "text/plain": [
              "<Figure size 432x288 with 1 Axes>"
            ]
          },
          "metadata": {
            "tags": []
          }
        }
      ]
    },
    {
      "cell_type": "code",
      "metadata": {
        "id": "Rtx44uCj8A9V",
        "colab_type": "code",
        "colab": {}
      },
      "source": [
        ""
      ],
      "execution_count": 0,
      "outputs": []
    }
  ]
}